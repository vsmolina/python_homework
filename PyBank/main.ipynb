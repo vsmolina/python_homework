{
 "cells": [
  {
   "cell_type": "code",
   "execution_count": 3,
   "metadata": {},
   "outputs": [],
   "source": [
    "#import libraries for csv\n",
    "import csv\n",
    "import pathlib\n",
    "from pathlib import Path"
   ]
  },
  {
   "cell_type": "code",
   "execution_count": 4,
   "metadata": {},
   "outputs": [],
   "source": [
    "#make a path to the csv file\n",
    "budget_path = Path(\"../Resources/budget_data.csv\")"
   ]
  },
  {
   "cell_type": "code",
   "execution_count": 37,
   "metadata": {},
   "outputs": [
    {
     "name": "stdout",
     "output_type": "stream",
     "text": [
      "Financial Analysis\n",
      "----------------------------\n",
      "Total Months: 86\n",
      "Total: $38382578.0\n",
      "Average Change: $446309.05\n",
      "Greatest Increase in Profits: 1170593\n",
      "Greatest Deacrease in Profits: -1196225\n"
     ]
    }
   ],
   "source": [
    "#open csv\n",
    "with open(budget_path, \"r\") as budget_file:\n",
    "    \n",
    "#imput reader command\n",
    "    budget_reader = csv.reader(budget_file, delimiter= \",\")\n",
    "    \n",
    "#iterate the the data, skip the header\n",
    "    csv_header = next(budget_reader)\n",
    "    total_months = 0\n",
    "    net_profits = 0\n",
    "    g_increase = 0\n",
    "    g_decrease = 0\n",
    "    ave_profits = 0\n",
    "    \n",
    "#make loops and equations for required amounts\n",
    "    for row in budget_reader:\n",
    "        total_months += 1\n",
    "        if float(row[1]) > float(g_increase):\n",
    "            g_increase = row[1]\n",
    "        if float(row[1]) < float(g_decrease):\n",
    "            g_decrease = row[1]\n",
    "        net_profits += float(row[1])\n",
    "ave_profits = net_profits / total_months\n",
    "ave_profits_formatted = round(ave_profits, 2)\n",
    "\n",
    "#print out in the format required\n",
    "print(\"Financial Analysis\")\n",
    "print(\"-\"*28)\n",
    "print(f\"Total Months: {total_months}\")\n",
    "print(f\"Total: ${net_profits}\")\n",
    "print(f\"Average Change: ${ave_profits_formatted}\")\n",
    "print(f\"Greatest Increase in Profits: {g_increase}\")\n",
    "print(f\"Greatest Deacrease in Profits: {g_decrease}\")\n",
    "      "
   ]
  },
  {
   "cell_type": "code",
   "execution_count": null,
   "metadata": {},
   "outputs": [],
   "source": []
  }
 ],
 "metadata": {
  "kernelspec": {
   "display_name": "Python 3",
   "language": "python",
   "name": "python3"
  },
  "language_info": {
   "codemirror_mode": {
    "name": "ipython",
    "version": 3
   },
   "file_extension": ".py",
   "mimetype": "text/x-python",
   "name": "python",
   "nbconvert_exporter": "python",
   "pygments_lexer": "ipython3",
   "version": "3.7.9"
  }
 },
 "nbformat": 4,
 "nbformat_minor": 4
}
